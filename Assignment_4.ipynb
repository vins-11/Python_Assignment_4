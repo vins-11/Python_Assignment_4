{
 "cells": [
  {
   "cell_type": "markdown",
   "metadata": {
    "id": "2YW86srR7_au"
   },
   "source": [
    "#### Ques 1. Write a function that asks for an integer and prints the square of it. Use a while loop with a try, except, else block to account for incorrect inputs."
   ]
  },
  {
   "cell_type": "code",
   "execution_count": 5,
   "metadata": {},
   "outputs": [
    {
     "name": "stdout",
     "output_type": "stream",
     "text": [
      "Please enter an integer: hello22\n",
      "No valid integer! Please try again ...\n",
      "Please enter an integer: 22\n",
      "Great, you successfully entered an integer!\n"
     ]
    }
   ],
   "source": [
    "while True:\n",
    "    try:\n",
    "        n = input(\"Please enter an integer: \")\n",
    "        n = int(n)\n",
    "        break\n",
    "    except ValueError:\n",
    "        print(\"No valid integer! Please try again ...\")\n",
    "print(\"Great, you successfully entered an integer!\")"
   ]
  },
  {
   "cell_type": "markdown",
   "metadata": {
    "id": "sL_d_A8o8tJ_"
   },
   "source": [
    "#### Ques 2. Assuming that we have some email addresses in the \"username@gmail.com\" format, please write program to print the user name of a given email address. Both user names and company names are composed of letters only.\n",
    " #### Example: If the following email address is given as input to the program:\n",
    "#### abc@gmail.com\n",
    "#### then output :- abc"
   ]
  },
  {
   "cell_type": "code",
   "execution_count": 15,
   "metadata": {},
   "outputs": [
    {
     "name": "stdout",
     "output_type": "stream",
     "text": [
      "['vinita']\n"
     ]
    }
   ],
   "source": [
    "import re\n",
    "\n",
    "email = \"vinita@gmail.com\"\n",
    "pattern = \"(\\w+)@\\w+.com\"\n",
    "ans = re.findall(pattern,email)\n",
    "print(ans)"
   ]
  },
  {
   "cell_type": "code",
   "execution_count": 55,
   "metadata": {},
   "outputs": [
    {
     "name": "stdout",
     "output_type": "stream",
     "text": [
      "vinita\n"
     ]
    }
   ],
   "source": [
    "email = \"vinita@gmail.com\"\n",
    "email = email.split('@')\n",
    "print(email[0])\n"
   ]
  },
  {
   "cell_type": "markdown",
   "metadata": {
    "id": "2Ij2lx7b9C2m"
   },
   "source": [
    "#### Ques 3. Write a function to compute 8/0 and use try/except to catch the exceptions."
   ]
  },
  {
   "cell_type": "code",
   "execution_count": 8,
   "metadata": {},
   "outputs": [
    {
     "name": "stdout",
     "output_type": "stream",
     "text": [
      "8 /  2 = 4.0\n"
     ]
    }
   ],
   "source": [
    "try:\n",
    "    a = 2\n",
    "    b = 8/a\n",
    "    print(\"8 / \",a ,\"=\", b)\n",
    "except Exception as e:\n",
    "    print(e)"
   ]
  },
  {
   "cell_type": "markdown",
   "metadata": {
    "id": "qhJW9KFJ9VXt"
   },
   "source": [
    "#### Ques 4.Write a Python program that accepts a string and calculate the number of digits and letters.\n",
    "\n",
    "#### Input :-Hello321Bye360\n",
    "#### Output:-Digit - 6,Letter - 8"
   ]
  },
  {
   "cell_type": "code",
   "execution_count": 19,
   "metadata": {},
   "outputs": [
    {
     "name": "stdout",
     "output_type": "stream",
     "text": [
      "Input a string11 july 1999\n",
      "Letters 4\n",
      "Digits 6\n"
     ]
    }
   ],
   "source": [
    "s = input(\"Input a string\")\n",
    "d=l=0\n",
    "for c in s:\n",
    "    if c.isdigit():\n",
    "        d=d+1\n",
    "    elif c.isalpha():\n",
    "        l=l+1\n",
    "    else:\n",
    "        pass\n",
    "print(\"Letters\", l)\n",
    "print(\"Digits\", d)\n"
   ]
  },
  {
   "cell_type": "markdown",
   "metadata": {
    "id": "LCEb_1DQ98yW"
   },
   "source": [
    "#### Ques 5. Define a class named Rectangle which can be constructed by a length and width. The Rectangle class has a method which can compute the area. \n",
    "\n",
    "#### Hints:Use def methodName(self) to define a method."
   ]
  },
  {
   "cell_type": "code",
   "execution_count": 23,
   "metadata": {},
   "outputs": [
    {
     "name": "stdout",
     "output_type": "stream",
     "text": [
      "80\n"
     ]
    }
   ],
   "source": [
    "class Rectangle():\n",
    "    def __init__(self, l, w):\n",
    "        self.length = l\n",
    "        self.width  = w\n",
    "\n",
    "    def rectangle_area(self):\n",
    "        return self.length*self.width\n",
    "\n",
    "newRectangle = Rectangle(10, 8)\n",
    "print(newRectangle.rectangle_area())\n"
   ]
  },
  {
   "cell_type": "markdown",
   "metadata": {
    "id": "d7hDhJAK-LA7"
   },
   "source": [
    "#### Ques 6. Define a class named Shape and its subclass Square. The Square class has an init function which takes a length as argument. Both classes have a area function which can print the area of the shape where Shape's area is 0 by default.\n",
    "\n",
    "#### Hints: To override a method in super class, we can define a method with the same name in the super class."
   ]
  },
  {
   "cell_type": "code",
   "execution_count": 27,
   "metadata": {},
   "outputs": [
    {
     "name": "stdout",
     "output_type": "stream",
     "text": [
      "25\n",
      "0\n"
     ]
    }
   ],
   "source": [
    "class Shape():\n",
    "    def __init__(self):\n",
    "        pass\n",
    "\n",
    "    def area(self):\n",
    "        return 0\n",
    "\n",
    "class Square(Shape):\n",
    "    def __init__(self,length = 0):\n",
    "        Shape.__init__(self)\n",
    "        self.length = length\n",
    "\n",
    "    def area(self):\n",
    "        return self.length*self.length\n",
    "\n",
    "Asqr = Square(5)\n",
    "print(Asqr.area())      \n",
    "\n",
    "print(Square().area())  \n"
   ]
  },
  {
   "cell_type": "markdown",
   "metadata": {
    "id": "OaWtBthM-8Rw"
   },
   "source": [
    "#### Ques 7.You are given a string.Your task is to count the frequency of letters of the string and print the letters in descending order of frequency.\n",
    "\n",
    "#### for example :- If the following string is given as input to the program: aabbbccde\n",
    "\n",
    "#### Then, the output of the program should be: b 3 a 2 c 2 d 1 e 1"
   ]
  },
  {
   "cell_type": "code",
   "execution_count": 31,
   "metadata": {},
   "outputs": [
    {
     "name": "stdout",
     "output_type": "stream",
     "text": [
      "aabbbccde\n",
      "b 3\n",
      "a 2\n",
      "c 2\n",
      "d 1\n",
      "e 1\n"
     ]
    }
   ],
   "source": [
    "word = input()\n",
    "dct = {}\n",
    "for i in word:\n",
    "    dct[i] = dct.get(i,0) + 1\n",
    "\n",
    "dct = sorted(dct.items(),key=lambda x: (-x[1],x[0]))\n",
    "for i in dct:\n",
    "    print(i[0],i[1])\n"
   ]
  },
  {
   "cell_type": "markdown",
   "metadata": {
    "id": "Q-yx3qMtASF5"
   },
   "source": [
    "#### Ques 8. write a program which prints all permutations of [1,2,3]\n",
    "\n",
    "#### Hints: Use itertools.permutations() to get permutations of list."
   ]
  },
  {
   "cell_type": "code",
   "execution_count": 36,
   "metadata": {},
   "outputs": [
    {
     "name": "stdout",
     "output_type": "stream",
     "text": [
      "[(1, 2, 3), (1, 3, 2), (2, 1, 3), (2, 3, 1), (3, 1, 2), (3, 2, 1)]\n"
     ]
    }
   ],
   "source": [
    "from itertools import permutations\n",
    "l = list(permutations(range(1, 4)))\n",
    "print (l)\n"
   ]
  },
  {
   "cell_type": "markdown",
   "metadata": {
    "id": "NQgLkmceApns"
   },
   "source": []
  }
 ],
 "metadata": {
  "colab": {
   "name": "Assignment_4.ipynb",
   "provenance": []
  },
  "kernelspec": {
   "display_name": "Python 3",
   "language": "python",
   "name": "python3"
  },
  "language_info": {
   "codemirror_mode": {
    "name": "ipython",
    "version": 3
   },
   "file_extension": ".py",
   "mimetype": "text/x-python",
   "name": "python",
   "nbconvert_exporter": "python",
   "pygments_lexer": "ipython3",
   "version": "3.8.8"
  }
 },
 "nbformat": 4,
 "nbformat_minor": 1
}
